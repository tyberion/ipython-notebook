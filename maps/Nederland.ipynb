{
 "metadata": {
  "name": "",
  "signature": "sha256:57e272730c06e36bf6e202137f5763300746689746db77fff74c9e5207bb0309"
 },
 "nbformat": 3,
 "nbformat_minor": 0,
 "worksheets": [
  {
   "cells": [
    {
     "cell_type": "code",
     "collapsed": false,
     "input": [
      "import fiona\n",
      "import json\n",
      "import folium\n",
      "\n",
      "import numpy as np\n",
      "import pandas as pd\n",
      "\n",
      "from pyproj import Proj, transform\n",
      "from IPython.display import HTML"
     ],
     "language": "python",
     "metadata": {},
     "outputs": [],
     "prompt_number": 14
    },
    {
     "cell_type": "code",
     "collapsed": false,
     "input": [
      "def rd2latlon(rdx, rdy):\n",
      "    # copy the SR-ORG:6781 definition in Proj4 format from http://spatialreference.org/ref/sr-org/6781/\n",
      "    p1 = Proj('+proj=sterea +lat_0=52.15616055555555 +lon_0=5.38763888888889 +k=0.9999079 +x_0=155000 ' +\n",
      "              '+y_0=463000 +ellps=bessel +towgs84=565.237,50.0087,465.658,-0.406857,0.350733,-1.87035,' +\n",
      "              '4.0812 +units=m +no_defs')\n",
      "    p2 = Proj(proj='latlong',datum='WGS84')\n",
      "    lat, lon, _ = transform(p1, p2, rdx, rdy, 0 * rdx)\n",
      "    return lat, lon"
     ],
     "language": "python",
     "metadata": {},
     "outputs": [],
     "prompt_number": 12
    },
    {
     "cell_type": "code",
     "collapsed": false,
     "input": [
      "def embed_map(map, path=\"map.html\"):\n",
      "    \"\"\"\n",
      "    Embeds a linked iframe to the map into the IPython notebook.\n",
      "    \n",
      "    Note: this method will not capture the source of the map into the notebook.\n",
      "    This method should work for all maps (as long as they use relative urls).\n",
      "    \"\"\"\n",
      "    map.create_map(path=path)\n",
      "    return HTML('<iframe src=\"files/{path}\" style=\"width: 100%; height: 510px; border: none\"></iframe>'.format(path=path))"
     ],
     "language": "python",
     "metadata": {},
     "outputs": [],
     "prompt_number": 19
    },
    {
     "cell_type": "code",
     "collapsed": false,
     "input": [
      "shapefile = 'nederland/gem_2013_v1.shp'\n",
      "\n",
      "features = []\n",
      "data = pd.DataFrame()\n",
      "\n",
      "with fiona.collection(shapefile, 'r') as source:\n",
      "    for feat in source:\n",
      "        properties = feat['properties']\n",
      "        if properties['WATER'] == 'JA':\n",
      "            continue\n",
      "        feat_data = pd.DataFrame(properties, index=[properties['GM_CODE']])\n",
      "        feat_data['ID'] = feat['id']\n",
      "        data = data.append(feat_data)\n",
      "\n",
      "        if feat['geometry']['type'] == 'Polygon':\n",
      "            coordinates = np.array(feat['geometry']['coordinates'][0])\n",
      "            lat, lon = rd2latlon(coordinates[:, 0], coordinates[:, 1])\n",
      "            feat['geometry']['coordinates'][0] = np.c_[lat, lon].tolist()\n",
      "            features.append(feat)\n",
      "        else:\n",
      "            latlon_geom = []\n",
      "            for geometry in feat['geometry']['coordinates']:\n",
      "                coordinates = np.array(geometry[0])\n",
      "                lat, lon = rd2latlon(coordinates[:, 0], coordinates[:, 1])\n",
      "                latlon_geom.append([np.c_[lat, lon].tolist()])\n",
      "            feat['geometry']['coordinates'] = latlon_geom\n",
      "            features.append(feat)\n",
      "data = data.replace(-99999998, np.nan)\n",
      "\n",
      "my_layer = {\n",
      "    'type': 'FeatureCollection',\n",
      "    'features': features\n",
      "}\n",
      "\n",
      "with open('nederland.geo.json', 'w') as f:\n",
      "    f.write(json.dumps(my_layer))"
     ],
     "language": "python",
     "metadata": {},
     "outputs": [],
     "prompt_number": 8
    },
    {
     "cell_type": "code",
     "collapsed": false,
     "input": [
      "data_field = 'AANT_INW'\n",
      "name = 'Number of Inhabitants'\n",
      "\n",
      "threshold_min = data[data_field].quantile(0.1)\n",
      "th_log = np.floor(np.log10(threshold_min))\n",
      "threshold_min = 10**th_log\n",
      "\n",
      "threshold_max = data[data_field].quantile(0.9)\n",
      "threshold_max = np.ceil(threshold_max / threshold_min) * threshold_min\n",
      "\n",
      "thresholds = np.linspace(threshold_min, threshold_max, 6)\n",
      "thresholds = np.round(thresholds/10**(th_log-1))*10**(th_log-1)\n",
      "\n",
      "map_osm = folium.Map(location=[52.165509, 5.223999], tiles='Mapbox Bright', zoom_start=7)\n",
      "map_osm.geo_json(geo_path='nederland.geo.json',\n",
      "                 data=data,\n",
      "                 key_on='feature.id',\n",
      "                 columns=['ID', data_field],\n",
      "                 threshold_scale=thresholds.tolist(),\n",
      "                 legend_name=name,\n",
      "                 fill_color='BuPu',\n",
      "                 fill_opacity=0.9, line_opacity=0.5,\n",
      "                 line_color='white')\n",
      "embed_map(map_osm)"
     ],
     "language": "python",
     "metadata": {},
     "outputs": [
      {
       "html": [
        "<iframe src=\"files/map.html\" style=\"width: 100%; height: 510px; border: none\"></iframe>"
       ],
       "metadata": {},
       "output_type": "pyout",
       "prompt_number": 26,
       "text": [
        "<IPython.core.display.HTML at 0x7f7dca0ea6a0>"
       ]
      }
     ],
     "prompt_number": 26
    },
    {
     "cell_type": "code",
     "collapsed": false,
     "input": [],
     "language": "python",
     "metadata": {},
     "outputs": []
    }
   ],
   "metadata": {}
  }
 ]
}